{
  "nbformat": 4,
  "nbformat_minor": 0,
  "metadata": {
    "anaconda-cloud": {},
    "kernelspec": {
      "display_name": "Python 3",
      "language": "python",
      "name": "python3"
    },
    "language_info": {
      "codemirror_mode": {
        "name": "ipython",
        "version": 3
      },
      "file_extension": ".py",
      "mimetype": "text/x-python",
      "name": "python",
      "nbconvert_exporter": "python",
      "pygments_lexer": "ipython3",
      "version": "3.9.0"
    },
    "colab": {
      "name": "Tasks_pandas_13_01.ipynb",
      "provenance": [],
      "collapsed_sections": [],
      "toc_visible": true
    }
  },
  "cells": [
    {
      "cell_type": "markdown",
      "metadata": {
        "id": "R5HofDUYUWGu"
      },
      "source": [
        "# <center> Майнор \"Интеллектуальный анализ данных\" </center>"
      ]
    },
    {
      "cell_type": "markdown",
      "metadata": {
        "id": "r7V9EIZuUWGz"
      },
      "source": [
        "# <center> Курс \"Введение в программирование\" </center>"
      ]
    },
    {
      "cell_type": "markdown",
      "metadata": {
        "id": "MG04aH1RUWGz"
      },
      "source": [
        "# <center> Первичный анализ данных. Pandas. </center>"
      ]
    },
    {
      "cell_type": "markdown",
      "metadata": {
        "id": "JKADuUdBUWGz"
      },
      "source": [
        "## Credits\n",
        "[Открытый курс ODS по машинному обучению](https://github.com/Yorko/mlcourse_open) "
      ]
    },
    {
      "cell_type": "markdown",
      "metadata": {
        "id": "6FWBqliTUWG0"
      },
      "source": [
        "## Часть 1.   \n",
        "  \n",
        "1. Установите Anaconda (или Miniconda) и запустите Jupyter Notebook\n",
        "2. Воспроизведите вычисления с семинара (файл `Explore_analysis.Pandas.ipynb`) <br>\n",
        "   **Note:** Возможно, придется самостоятельно установить библиотеку seaborn. Для этого в Anaconda Prompt выполните `conda install seaborn`\n",
        "3. Разберите тьюториалы [10 minutes to pandas](https://pandas.pydata.org/docs/user_guide/10min.html#min) и [Essential basic functionality](https://pandas.pydata.org/docs/user_guide/basics.html#basics)."
      ]
    },
    {
      "cell_type": "markdown",
      "metadata": {
        "id": "j1EEl8PVUWG0"
      },
      "source": [
        "## Часть 2. Анализ данных по доходу населения UCI Adult"
      ]
    },
    {
      "cell_type": "markdown",
      "metadata": {
        "id": "7-d4LtYaUWG0"
      },
      "source": [
        "**В задании предлагается с помощью Pandas ответить на несколько вопросов по данным репозитория UCI [Adult](https://archive.ics.uci.edu/ml/datasets/Adult).**"
      ]
    },
    {
      "cell_type": "markdown",
      "metadata": {
        "id": "_Pmr8tveUWG0"
      },
      "source": [
        "В качестве наблюдений в этом наборе данных представлены физические лица, они характеризуются различными признаками. Целевая переменная **salary** - доход человека > 50K или <= 50K."
      ]
    },
    {
      "cell_type": "code",
      "metadata": {
        "colab": {
          "base_uri": "https://localhost:8080/"
        },
        "id": "_NnUvhlcUWG1",
        "outputId": "642ce50e-9199-4634-f9e9-4e836d087e78"
      },
      "source": [
        "!pip install seaborn"
      ],
      "execution_count": null,
      "outputs": [
        {
          "output_type": "stream",
          "text": [
            "Requirement already satisfied: seaborn in /usr/local/lib/python3.6/dist-packages (0.11.1)\n",
            "Requirement already satisfied: numpy>=1.15 in /usr/local/lib/python3.6/dist-packages (from seaborn) (1.19.5)\n",
            "Requirement already satisfied: matplotlib>=2.2 in /usr/local/lib/python3.6/dist-packages (from seaborn) (3.2.2)\n",
            "Requirement already satisfied: pandas>=0.23 in /usr/local/lib/python3.6/dist-packages (from seaborn) (1.1.5)\n",
            "Requirement already satisfied: scipy>=1.0 in /usr/local/lib/python3.6/dist-packages (from seaborn) (1.4.1)\n",
            "Requirement already satisfied: cycler>=0.10 in /usr/local/lib/python3.6/dist-packages (from matplotlib>=2.2->seaborn) (0.10.0)\n",
            "Requirement already satisfied: python-dateutil>=2.1 in /usr/local/lib/python3.6/dist-packages (from matplotlib>=2.2->seaborn) (2.8.1)\n",
            "Requirement already satisfied: kiwisolver>=1.0.1 in /usr/local/lib/python3.6/dist-packages (from matplotlib>=2.2->seaborn) (1.3.1)\n",
            "Requirement already satisfied: pyparsing!=2.0.4,!=2.1.2,!=2.1.6,>=2.0.1 in /usr/local/lib/python3.6/dist-packages (from matplotlib>=2.2->seaborn) (2.4.7)\n",
            "Requirement already satisfied: pytz>=2017.2 in /usr/local/lib/python3.6/dist-packages (from pandas>=0.23->seaborn) (2018.9)\n",
            "Requirement already satisfied: six in /usr/local/lib/python3.6/dist-packages (from cycler>=0.10->matplotlib>=2.2->seaborn) (1.15.0)\n"
          ],
          "name": "stdout"
        }
      ]
    },
    {
      "cell_type": "code",
      "metadata": {
        "id": "94hBESdVUWG2"
      },
      "source": [
        "import numpy as np\n",
        "import pandas as pd\n",
        "\n",
        "import matplotlib.pyplot as plt\n",
        "import seaborn as sns\n",
        "\n",
        "import scipy\n",
        "from sklearn.neighbors import KNeighborsClassifier\n",
        "\n",
        "# чтоб картинки рисовались в тетрадке\n",
        "%matplotlib inline "
      ],
      "execution_count": null,
      "outputs": []
    },
    {
      "cell_type": "code",
      "metadata": {
        "colab": {
          "base_uri": "https://localhost:8080/",
          "height": 204
        },
        "id": "l0139TCwUWG2",
        "outputId": "59eddf2f-61eb-45ac-de7d-824f27f552bf"
      },
      "source": [
        "data = pd.read_csv('adult.data.csv')\n",
        "data.head()"
      ],
      "execution_count": 5,
      "outputs": [
        {
          "output_type": "execute_result",
          "data": {
            "text/html": [
              "<div>\n",
              "<style scoped>\n",
              "    .dataframe tbody tr th:only-of-type {\n",
              "        vertical-align: middle;\n",
              "    }\n",
              "\n",
              "    .dataframe tbody tr th {\n",
              "        vertical-align: top;\n",
              "    }\n",
              "\n",
              "    .dataframe thead th {\n",
              "        text-align: right;\n",
              "    }\n",
              "</style>\n",
              "<table border=\"1\" class=\"dataframe\">\n",
              "  <thead>\n",
              "    <tr style=\"text-align: right;\">\n",
              "      <th></th>\n",
              "      <th>age</th>\n",
              "      <th>workclass</th>\n",
              "      <th>fnlwgt</th>\n",
              "      <th>education</th>\n",
              "      <th>education-num</th>\n",
              "      <th>marital-status</th>\n",
              "      <th>occupation</th>\n",
              "      <th>relationship</th>\n",
              "      <th>race</th>\n",
              "      <th>sex</th>\n",
              "      <th>capital-gain</th>\n",
              "      <th>capital-loss</th>\n",
              "      <th>hours-per-week</th>\n",
              "      <th>native-country</th>\n",
              "      <th>salary</th>\n",
              "    </tr>\n",
              "  </thead>\n",
              "  <tbody>\n",
              "    <tr>\n",
              "      <th>0</th>\n",
              "      <td>39</td>\n",
              "      <td>State-gov</td>\n",
              "      <td>77516</td>\n",
              "      <td>Bachelors</td>\n",
              "      <td>13</td>\n",
              "      <td>Never-married</td>\n",
              "      <td>Adm-clerical</td>\n",
              "      <td>Not-in-family</td>\n",
              "      <td>White</td>\n",
              "      <td>Male</td>\n",
              "      <td>2174</td>\n",
              "      <td>0</td>\n",
              "      <td>40</td>\n",
              "      <td>United-States</td>\n",
              "      <td>&lt;=50K</td>\n",
              "    </tr>\n",
              "    <tr>\n",
              "      <th>1</th>\n",
              "      <td>50</td>\n",
              "      <td>Self-emp-not-inc</td>\n",
              "      <td>83311</td>\n",
              "      <td>Bachelors</td>\n",
              "      <td>13</td>\n",
              "      <td>Married-civ-spouse</td>\n",
              "      <td>Exec-managerial</td>\n",
              "      <td>Husband</td>\n",
              "      <td>White</td>\n",
              "      <td>Male</td>\n",
              "      <td>0</td>\n",
              "      <td>0</td>\n",
              "      <td>13</td>\n",
              "      <td>United-States</td>\n",
              "      <td>&lt;=50K</td>\n",
              "    </tr>\n",
              "    <tr>\n",
              "      <th>2</th>\n",
              "      <td>38</td>\n",
              "      <td>Private</td>\n",
              "      <td>215646</td>\n",
              "      <td>HS-grad</td>\n",
              "      <td>9</td>\n",
              "      <td>Divorced</td>\n",
              "      <td>Handlers-cleaners</td>\n",
              "      <td>Not-in-family</td>\n",
              "      <td>White</td>\n",
              "      <td>Male</td>\n",
              "      <td>0</td>\n",
              "      <td>0</td>\n",
              "      <td>40</td>\n",
              "      <td>United-States</td>\n",
              "      <td>&lt;=50K</td>\n",
              "    </tr>\n",
              "    <tr>\n",
              "      <th>3</th>\n",
              "      <td>53</td>\n",
              "      <td>Private</td>\n",
              "      <td>234721</td>\n",
              "      <td>11th</td>\n",
              "      <td>7</td>\n",
              "      <td>Married-civ-spouse</td>\n",
              "      <td>Handlers-cleaners</td>\n",
              "      <td>Husband</td>\n",
              "      <td>Black</td>\n",
              "      <td>Male</td>\n",
              "      <td>0</td>\n",
              "      <td>0</td>\n",
              "      <td>40</td>\n",
              "      <td>United-States</td>\n",
              "      <td>&lt;=50K</td>\n",
              "    </tr>\n",
              "    <tr>\n",
              "      <th>4</th>\n",
              "      <td>28</td>\n",
              "      <td>Private</td>\n",
              "      <td>338409</td>\n",
              "      <td>Bachelors</td>\n",
              "      <td>13</td>\n",
              "      <td>Married-civ-spouse</td>\n",
              "      <td>Prof-specialty</td>\n",
              "      <td>Wife</td>\n",
              "      <td>Black</td>\n",
              "      <td>Female</td>\n",
              "      <td>0</td>\n",
              "      <td>0</td>\n",
              "      <td>40</td>\n",
              "      <td>Cuba</td>\n",
              "      <td>&lt;=50K</td>\n",
              "    </tr>\n",
              "  </tbody>\n",
              "</table>\n",
              "</div>"
            ],
            "text/plain": [
              "   age         workclass  fnlwgt  ... hours-per-week  native-country salary\n",
              "0   39         State-gov   77516  ...             40   United-States  <=50K\n",
              "1   50  Self-emp-not-inc   83311  ...             13   United-States  <=50K\n",
              "2   38           Private  215646  ...             40   United-States  <=50K\n",
              "3   53           Private  234721  ...             40   United-States  <=50K\n",
              "4   28           Private  338409  ...             40            Cuba  <=50K\n",
              "\n",
              "[5 rows x 15 columns]"
            ]
          },
          "metadata": {
            "tags": []
          },
          "execution_count": 5
        }
      ]
    },
    {
      "cell_type": "markdown",
      "metadata": {
        "id": "Ts3KQ6e6UWG2"
      },
      "source": [
        "**Определите размерность данных: сколько наблюдений и сколько признаков**"
      ]
    },
    {
      "cell_type": "code",
      "metadata": {
        "colab": {
          "base_uri": "https://localhost:8080/"
        },
        "id": "YL27bKA6UWG3",
        "outputId": "0df0bd83-a6d9-4b7d-cc6d-feaff544a599"
      },
      "source": [
        "data.shape"
      ],
      "execution_count": null,
      "outputs": [
        {
          "output_type": "execute_result",
          "data": {
            "text/plain": [
              "(32561, 15)"
            ]
          },
          "metadata": {
            "tags": []
          },
          "execution_count": 19
        }
      ]
    },
    {
      "cell_type": "markdown",
      "metadata": {
        "id": "gSy03LfmUWG3"
      },
      "source": [
        "**Список признаков**  \n",
        "**На источнике описание признаков скудное, но названия почти у всех признаков говорящие**"
      ]
    },
    {
      "cell_type": "code",
      "metadata": {
        "colab": {
          "base_uri": "https://localhost:8080/"
        },
        "id": "-ZtZzAPiUWG3",
        "outputId": "563dce22-5b54-47ea-ffe1-e94f829c2527"
      },
      "source": [
        "print('\\n'.join(data.columns.values.tolist()))"
      ],
      "execution_count": null,
      "outputs": [
        {
          "output_type": "stream",
          "text": [
            "age\n",
            "workclass\n",
            "fnlwgt\n",
            "education\n",
            "education-num\n",
            "marital-status\n",
            "occupation\n",
            "relationship\n",
            "race\n",
            "sex\n",
            "capital-gain\n",
            "capital-loss\n",
            "hours-per-week\n",
            "native-country\n",
            "salary\n"
          ],
          "name": "stdout"
        }
      ]
    },
    {
      "cell_type": "markdown",
      "metadata": {
        "id": "0B07ItssUWG3"
      },
      "source": [
        "**Проверьте, присутствуют ли в данных [пропущенные значения](http://pandas.pydata.org/pandas-docs/stable/missing_data.html). Сколько? В каких признаках?**  \n",
        "**Удалите наблюдения с пропущенными значениями**"
      ]
    },
    {
      "cell_type": "code",
      "metadata": {
        "colab": {
          "base_uri": "https://localhost:8080/"
        },
        "id": "7hS9CfgmRJF0",
        "outputId": "abdf15fa-74f9-4096-ed4b-45c42a410e4b"
      },
      "source": [
        "data.replace(to_replace='?',value=np.nan).isna().sum()\r\n",
        "#data.head(10).replace(39,np.nan)"
      ],
      "execution_count": 28,
      "outputs": [
        {
          "output_type": "execute_result",
          "data": {
            "text/plain": [
              "age                  0\n",
              "workclass         1836\n",
              "fnlwgt               0\n",
              "education            0\n",
              "education-num        0\n",
              "marital-status       0\n",
              "occupation        1843\n",
              "relationship         0\n",
              "race                 0\n",
              "sex                  0\n",
              "capital-gain         0\n",
              "capital-loss         0\n",
              "hours-per-week       0\n",
              "native-country     583\n",
              "salary               0\n",
              "dtype: int64"
            ]
          },
          "metadata": {
            "tags": []
          },
          "execution_count": 28
        }
      ]
    },
    {
      "cell_type": "code",
      "metadata": {
        "colab": {
          "base_uri": "https://localhost:8080/"
        },
        "id": "SRXKUQ98UWG3",
        "outputId": "88c69682-368b-41cf-a822-d6f32763ef67"
      },
      "source": [
        "data=data.replace(to_replace='?',value=np.nan)\r\n",
        "data=data.dropna()\r\n",
        "data.shape"
      ],
      "execution_count": 33,
      "outputs": [
        {
          "output_type": "execute_result",
          "data": {
            "text/plain": [
              "(30162, 15)"
            ]
          },
          "metadata": {
            "tags": []
          },
          "execution_count": 33
        }
      ]
    },
    {
      "cell_type": "markdown",
      "metadata": {
        "id": "zg992fqTUWG4"
      },
      "source": [
        "**Для каждого признака определите, к какому типу он относится. При необходимости, приведите признак к определенному вами типу.**"
      ]
    },
    {
      "cell_type": "code",
      "metadata": {
        "colab": {
          "base_uri": "https://localhost:8080/"
        },
        "id": "eMGoYS4UUWG4",
        "outputId": "18fa62ba-5eb8-4646-d4ab-843666ad4606"
      },
      "source": [
        "data.dtypes"
      ],
      "execution_count": 34,
      "outputs": [
        {
          "output_type": "execute_result",
          "data": {
            "text/plain": [
              "age                int64\n",
              "workclass         object\n",
              "fnlwgt             int64\n",
              "education         object\n",
              "education-num      int64\n",
              "marital-status    object\n",
              "occupation        object\n",
              "relationship      object\n",
              "race              object\n",
              "sex               object\n",
              "capital-gain       int64\n",
              "capital-loss       int64\n",
              "hours-per-week     int64\n",
              "native-country    object\n",
              "salary            object\n",
              "dtype: object"
            ]
          },
          "metadata": {
            "tags": []
          },
          "execution_count": 34
        }
      ]
    },
    {
      "cell_type": "markdown",
      "metadata": {
        "id": "LPfwDcpwUWG4"
      },
      "source": [
        "**Для категориальных признаков выведите список категорий**"
      ]
    },
    {
      "cell_type": "code",
      "metadata": {
        "colab": {
          "base_uri": "https://localhost:8080/"
        },
        "id": "BXqaeiJoUWG4",
        "outputId": "1f0a3c7f-58f7-4828-cf2a-28a9cf2e96fa"
      },
      "source": [
        "for column in data.columns:\r\n",
        "  if data[column].dtype=='object':\r\n",
        "    print(column,data[column].unique(),'', sep='\\n')"
      ],
      "execution_count": 35,
      "outputs": [
        {
          "output_type": "stream",
          "text": [
            "workclass\n",
            "['State-gov' 'Self-emp-not-inc' 'Private' 'Federal-gov' 'Local-gov'\n",
            " 'Self-emp-inc' 'Without-pay']\n",
            "\n",
            "education\n",
            "['Bachelors' 'HS-grad' '11th' 'Masters' '9th' 'Some-college' 'Assoc-acdm'\n",
            " '7th-8th' 'Doctorate' 'Assoc-voc' 'Prof-school' '5th-6th' '10th'\n",
            " 'Preschool' '12th' '1st-4th']\n",
            "\n",
            "marital-status\n",
            "['Never-married' 'Married-civ-spouse' 'Divorced' 'Married-spouse-absent'\n",
            " 'Separated' 'Married-AF-spouse' 'Widowed']\n",
            "\n",
            "occupation\n",
            "['Adm-clerical' 'Exec-managerial' 'Handlers-cleaners' 'Prof-specialty'\n",
            " 'Other-service' 'Sales' 'Transport-moving' 'Farming-fishing'\n",
            " 'Machine-op-inspct' 'Tech-support' 'Craft-repair' 'Protective-serv'\n",
            " 'Armed-Forces' 'Priv-house-serv']\n",
            "\n",
            "relationship\n",
            "['Not-in-family' 'Husband' 'Wife' 'Own-child' 'Unmarried' 'Other-relative']\n",
            "\n",
            "race\n",
            "['White' 'Black' 'Asian-Pac-Islander' 'Amer-Indian-Eskimo' 'Other']\n",
            "\n",
            "sex\n",
            "['Male' 'Female']\n",
            "\n",
            "native-country\n",
            "['United-States' 'Cuba' 'Jamaica' 'India' 'Mexico' 'Puerto-Rico'\n",
            " 'Honduras' 'England' 'Canada' 'Germany' 'Iran' 'Philippines' 'Poland'\n",
            " 'Columbia' 'Cambodia' 'Thailand' 'Ecuador' 'Laos' 'Taiwan' 'Haiti'\n",
            " 'Portugal' 'Dominican-Republic' 'El-Salvador' 'France' 'Guatemala'\n",
            " 'Italy' 'China' 'South' 'Japan' 'Yugoslavia' 'Peru'\n",
            " 'Outlying-US(Guam-USVI-etc)' 'Scotland' 'Trinadad&Tobago' 'Greece'\n",
            " 'Nicaragua' 'Vietnam' 'Hong' 'Ireland' 'Hungary' 'Holand-Netherlands']\n",
            "\n",
            "salary\n",
            "['<=50K' '>50K']\n",
            "\n"
          ],
          "name": "stdout"
        }
      ]
    },
    {
      "cell_type": "markdown",
      "metadata": {
        "id": "k5xgbrGNUWG4"
      },
      "source": [
        "### Используя функции и методы Pandas, ответьте на вопросы:"
      ]
    },
    {
      "cell_type": "markdown",
      "metadata": {
        "id": "WCr27MM2UWG4"
      },
      "source": [
        "**1. Сколько мужчин и женщин (признак *sex*) представлено в этом наборе данных?**"
      ]
    },
    {
      "cell_type": "code",
      "metadata": {
        "colab": {
          "base_uri": "https://localhost:8080/"
        },
        "id": "ArO20BBFUWG5",
        "outputId": "bdd67289-6715-47c4-dd83-aeb53320a137"
      },
      "source": [
        "man_count=data[data['sex']=='Male'].shape[0]\r\n",
        "woman_count=data[data['sex']=='Female'].shape[0]\r\n",
        "print(\"M\",man_count, \"W\", woman_count)"
      ],
      "execution_count": 37,
      "outputs": [
        {
          "output_type": "stream",
          "text": [
            "M 20380 W 9782\n"
          ],
          "name": "stdout"
        }
      ]
    },
    {
      "cell_type": "markdown",
      "metadata": {
        "id": "Zobqk71EUWG5"
      },
      "source": [
        "**2. Каков средний возраст (признак *age*) женщин?**"
      ]
    },
    {
      "cell_type": "code",
      "metadata": {
        "colab": {
          "base_uri": "https://localhost:8080/"
        },
        "id": "StpWzx4RUWG5",
        "outputId": "6137a8b1-8e2f-4cc6-8a75-bb0362359aa0"
      },
      "source": [
        "data[data['sex'] == \"Female\"].mean()['age']"
      ],
      "execution_count": 38,
      "outputs": [
        {
          "output_type": "execute_result",
          "data": {
            "text/plain": [
              "36.8834594152525"
            ]
          },
          "metadata": {
            "tags": []
          },
          "execution_count": 38
        }
      ]
    },
    {
      "cell_type": "markdown",
      "metadata": {
        "id": "IXSLDIDOUWG5"
      },
      "source": [
        "**3. Какова доля граждан Германии (признак *native-country*)?**"
      ]
    },
    {
      "cell_type": "code",
      "metadata": {
        "colab": {
          "base_uri": "https://localhost:8080/"
        },
        "id": "Q2ECqSjqUWG5",
        "outputId": "a019fdd6-c779-4eeb-a792-d674cd88f8f3"
      },
      "source": [
        "data[data['native-country'] == \"Germany\"].shape[0]/data.shape[0]"
      ],
      "execution_count": 71,
      "outputs": [
        {
          "output_type": "execute_result",
          "data": {
            "text/plain": [
              "0.004243750414428751"
            ]
          },
          "metadata": {
            "tags": []
          },
          "execution_count": 71
        }
      ]
    },
    {
      "cell_type": "markdown",
      "metadata": {
        "id": "EUVGbFnBUWG5"
      },
      "source": [
        "**4. Постройте гистограмму распределения (*bar plot*) образования людей (признак *education*).**"
      ]
    },
    {
      "cell_type": "code",
      "metadata": {
        "colab": {
          "base_uri": "https://localhost:8080/",
          "height": 695
        },
        "id": "Qbld267jYXZU",
        "outputId": "494c2fff-6323-4532-e1b1-690c4724cc7f"
      },
      "source": [
        "data.groupby('education').describe()"
      ],
      "execution_count": 52,
      "outputs": [
        {
          "output_type": "execute_result",
          "data": {
            "text/html": [
              "<div>\n",
              "<style scoped>\n",
              "    .dataframe tbody tr th:only-of-type {\n",
              "        vertical-align: middle;\n",
              "    }\n",
              "\n",
              "    .dataframe tbody tr th {\n",
              "        vertical-align: top;\n",
              "    }\n",
              "\n",
              "    .dataframe thead tr th {\n",
              "        text-align: left;\n",
              "    }\n",
              "\n",
              "    .dataframe thead tr:last-of-type th {\n",
              "        text-align: right;\n",
              "    }\n",
              "</style>\n",
              "<table border=\"1\" class=\"dataframe\">\n",
              "  <thead>\n",
              "    <tr>\n",
              "      <th></th>\n",
              "      <th colspan=\"8\" halign=\"left\">age</th>\n",
              "      <th colspan=\"8\" halign=\"left\">fnlwgt</th>\n",
              "      <th colspan=\"8\" halign=\"left\">education-num</th>\n",
              "      <th colspan=\"8\" halign=\"left\">capital-gain</th>\n",
              "      <th colspan=\"8\" halign=\"left\">capital-loss</th>\n",
              "      <th colspan=\"8\" halign=\"left\">hours-per-week</th>\n",
              "    </tr>\n",
              "    <tr>\n",
              "      <th></th>\n",
              "      <th>count</th>\n",
              "      <th>mean</th>\n",
              "      <th>std</th>\n",
              "      <th>min</th>\n",
              "      <th>25%</th>\n",
              "      <th>50%</th>\n",
              "      <th>75%</th>\n",
              "      <th>max</th>\n",
              "      <th>count</th>\n",
              "      <th>mean</th>\n",
              "      <th>std</th>\n",
              "      <th>min</th>\n",
              "      <th>25%</th>\n",
              "      <th>50%</th>\n",
              "      <th>75%</th>\n",
              "      <th>max</th>\n",
              "      <th>count</th>\n",
              "      <th>mean</th>\n",
              "      <th>std</th>\n",
              "      <th>min</th>\n",
              "      <th>25%</th>\n",
              "      <th>50%</th>\n",
              "      <th>75%</th>\n",
              "      <th>max</th>\n",
              "      <th>count</th>\n",
              "      <th>mean</th>\n",
              "      <th>std</th>\n",
              "      <th>min</th>\n",
              "      <th>25%</th>\n",
              "      <th>50%</th>\n",
              "      <th>75%</th>\n",
              "      <th>max</th>\n",
              "      <th>count</th>\n",
              "      <th>mean</th>\n",
              "      <th>std</th>\n",
              "      <th>min</th>\n",
              "      <th>25%</th>\n",
              "      <th>50%</th>\n",
              "      <th>75%</th>\n",
              "      <th>max</th>\n",
              "      <th>count</th>\n",
              "      <th>mean</th>\n",
              "      <th>std</th>\n",
              "      <th>min</th>\n",
              "      <th>25%</th>\n",
              "      <th>50%</th>\n",
              "      <th>75%</th>\n",
              "      <th>max</th>\n",
              "    </tr>\n",
              "    <tr>\n",
              "      <th>education</th>\n",
              "      <th></th>\n",
              "      <th></th>\n",
              "      <th></th>\n",
              "      <th></th>\n",
              "      <th></th>\n",
              "      <th></th>\n",
              "      <th></th>\n",
              "      <th></th>\n",
              "      <th></th>\n",
              "      <th></th>\n",
              "      <th></th>\n",
              "      <th></th>\n",
              "      <th></th>\n",
              "      <th></th>\n",
              "      <th></th>\n",
              "      <th></th>\n",
              "      <th></th>\n",
              "      <th></th>\n",
              "      <th></th>\n",
              "      <th></th>\n",
              "      <th></th>\n",
              "      <th></th>\n",
              "      <th></th>\n",
              "      <th></th>\n",
              "      <th></th>\n",
              "      <th></th>\n",
              "      <th></th>\n",
              "      <th></th>\n",
              "      <th></th>\n",
              "      <th></th>\n",
              "      <th></th>\n",
              "      <th></th>\n",
              "      <th></th>\n",
              "      <th></th>\n",
              "      <th></th>\n",
              "      <th></th>\n",
              "      <th></th>\n",
              "      <th></th>\n",
              "      <th></th>\n",
              "      <th></th>\n",
              "      <th></th>\n",
              "      <th></th>\n",
              "      <th></th>\n",
              "      <th></th>\n",
              "      <th></th>\n",
              "      <th></th>\n",
              "      <th></th>\n",
              "      <th></th>\n",
              "    </tr>\n",
              "  </thead>\n",
              "  <tbody>\n",
              "    <tr>\n",
              "      <th>10th</th>\n",
              "      <td>820.0</td>\n",
              "      <td>37.897561</td>\n",
              "      <td>16.225795</td>\n",
              "      <td>17.0</td>\n",
              "      <td>23.0</td>\n",
              "      <td>36.0</td>\n",
              "      <td>52.0</td>\n",
              "      <td>90.0</td>\n",
              "      <td>820.0</td>\n",
              "      <td>196969.587805</td>\n",
              "      <td>110043.962258</td>\n",
              "      <td>21698.0</td>\n",
              "      <td>124755.75</td>\n",
              "      <td>179965.0</td>\n",
              "      <td>245282.50</td>\n",
              "      <td>766115.0</td>\n",
              "      <td>820.0</td>\n",
              "      <td>6.0</td>\n",
              "      <td>0.0</td>\n",
              "      <td>6.0</td>\n",
              "      <td>6.0</td>\n",
              "      <td>6.0</td>\n",
              "      <td>6.0</td>\n",
              "      <td>6.0</td>\n",
              "      <td>820.0</td>\n",
              "      <td>395.914634</td>\n",
              "      <td>5043.344547</td>\n",
              "      <td>0.0</td>\n",
              "      <td>0.0</td>\n",
              "      <td>0.0</td>\n",
              "      <td>0.0</td>\n",
              "      <td>99999.0</td>\n",
              "      <td>820.0</td>\n",
              "      <td>62.268293</td>\n",
              "      <td>353.646262</td>\n",
              "      <td>0.0</td>\n",
              "      <td>0.0</td>\n",
              "      <td>0.0</td>\n",
              "      <td>0.0</td>\n",
              "      <td>3770.0</td>\n",
              "      <td>820.0</td>\n",
              "      <td>37.464634</td>\n",
              "      <td>13.387891</td>\n",
              "      <td>1.0</td>\n",
              "      <td>32.75</td>\n",
              "      <td>40.0</td>\n",
              "      <td>40.0</td>\n",
              "      <td>99.0</td>\n",
              "    </tr>\n",
              "    <tr>\n",
              "      <th>11th</th>\n",
              "      <td>1048.0</td>\n",
              "      <td>32.363550</td>\n",
              "      <td>15.089307</td>\n",
              "      <td>17.0</td>\n",
              "      <td>18.0</td>\n",
              "      <td>28.5</td>\n",
              "      <td>43.0</td>\n",
              "      <td>90.0</td>\n",
              "      <td>1048.0</td>\n",
              "      <td>193269.800573</td>\n",
              "      <td>100660.920287</td>\n",
              "      <td>19752.0</td>\n",
              "      <td>122577.25</td>\n",
              "      <td>184400.5</td>\n",
              "      <td>244867.75</td>\n",
              "      <td>761006.0</td>\n",
              "      <td>1048.0</td>\n",
              "      <td>7.0</td>\n",
              "      <td>0.0</td>\n",
              "      <td>7.0</td>\n",
              "      <td>7.0</td>\n",
              "      <td>7.0</td>\n",
              "      <td>7.0</td>\n",
              "      <td>7.0</td>\n",
              "      <td>1048.0</td>\n",
              "      <td>217.190840</td>\n",
              "      <td>1250.542556</td>\n",
              "      <td>0.0</td>\n",
              "      <td>0.0</td>\n",
              "      <td>0.0</td>\n",
              "      <td>0.0</td>\n",
              "      <td>14344.0</td>\n",
              "      <td>1048.0</td>\n",
              "      <td>52.538168</td>\n",
              "      <td>313.055870</td>\n",
              "      <td>0.0</td>\n",
              "      <td>0.0</td>\n",
              "      <td>0.0</td>\n",
              "      <td>0.0</td>\n",
              "      <td>2824.0</td>\n",
              "      <td>1048.0</td>\n",
              "      <td>34.193702</td>\n",
              "      <td>13.842603</td>\n",
              "      <td>2.0</td>\n",
              "      <td>20.00</td>\n",
              "      <td>40.0</td>\n",
              "      <td>40.0</td>\n",
              "      <td>99.0</td>\n",
              "    </tr>\n",
              "    <tr>\n",
              "      <th>12th</th>\n",
              "      <td>377.0</td>\n",
              "      <td>32.013263</td>\n",
              "      <td>14.373710</td>\n",
              "      <td>17.0</td>\n",
              "      <td>19.0</td>\n",
              "      <td>28.0</td>\n",
              "      <td>41.0</td>\n",
              "      <td>79.0</td>\n",
              "      <td>377.0</td>\n",
              "      <td>200397.411141</td>\n",
              "      <td>129148.033887</td>\n",
              "      <td>23037.0</td>\n",
              "      <td>111450.00</td>\n",
              "      <td>180039.0</td>\n",
              "      <td>257126.00</td>\n",
              "      <td>917220.0</td>\n",
              "      <td>377.0</td>\n",
              "      <td>8.0</td>\n",
              "      <td>0.0</td>\n",
              "      <td>8.0</td>\n",
              "      <td>8.0</td>\n",
              "      <td>8.0</td>\n",
              "      <td>8.0</td>\n",
              "      <td>8.0</td>\n",
              "      <td>377.0</td>\n",
              "      <td>265.501326</td>\n",
              "      <td>1569.815349</td>\n",
              "      <td>0.0</td>\n",
              "      <td>0.0</td>\n",
              "      <td>0.0</td>\n",
              "      <td>0.0</td>\n",
              "      <td>18481.0</td>\n",
              "      <td>377.0</td>\n",
              "      <td>32.891247</td>\n",
              "      <td>241.252189</td>\n",
              "      <td>0.0</td>\n",
              "      <td>0.0</td>\n",
              "      <td>0.0</td>\n",
              "      <td>0.0</td>\n",
              "      <td>2258.0</td>\n",
              "      <td>377.0</td>\n",
              "      <td>35.697613</td>\n",
              "      <td>12.992585</td>\n",
              "      <td>6.0</td>\n",
              "      <td>27.00</td>\n",
              "      <td>40.0</td>\n",
              "      <td>40.0</td>\n",
              "      <td>99.0</td>\n",
              "    </tr>\n",
              "    <tr>\n",
              "      <th>1st-4th</th>\n",
              "      <td>151.0</td>\n",
              "      <td>44.622517</td>\n",
              "      <td>14.929051</td>\n",
              "      <td>19.0</td>\n",
              "      <td>33.0</td>\n",
              "      <td>44.0</td>\n",
              "      <td>56.0</td>\n",
              "      <td>81.0</td>\n",
              "      <td>151.0</td>\n",
              "      <td>245258.609272</td>\n",
              "      <td>127258.675295</td>\n",
              "      <td>34378.0</td>\n",
              "      <td>157424.00</td>\n",
              "      <td>223613.0</td>\n",
              "      <td>323787.50</td>\n",
              "      <td>795830.0</td>\n",
              "      <td>151.0</td>\n",
              "      <td>2.0</td>\n",
              "      <td>0.0</td>\n",
              "      <td>2.0</td>\n",
              "      <td>2.0</td>\n",
              "      <td>2.0</td>\n",
              "      <td>2.0</td>\n",
              "      <td>2.0</td>\n",
              "      <td>151.0</td>\n",
              "      <td>113.940397</td>\n",
              "      <td>771.107777</td>\n",
              "      <td>0.0</td>\n",
              "      <td>0.0</td>\n",
              "      <td>0.0</td>\n",
              "      <td>0.0</td>\n",
              "      <td>7688.0</td>\n",
              "      <td>151.0</td>\n",
              "      <td>53.768212</td>\n",
              "      <td>333.304014</td>\n",
              "      <td>0.0</td>\n",
              "      <td>0.0</td>\n",
              "      <td>0.0</td>\n",
              "      <td>0.0</td>\n",
              "      <td>2603.0</td>\n",
              "      <td>151.0</td>\n",
              "      <td>38.377483</td>\n",
              "      <td>13.141153</td>\n",
              "      <td>4.0</td>\n",
              "      <td>35.00</td>\n",
              "      <td>40.0</td>\n",
              "      <td>40.0</td>\n",
              "      <td>96.0</td>\n",
              "    </tr>\n",
              "    <tr>\n",
              "      <th>5th-6th</th>\n",
              "      <td>288.0</td>\n",
              "      <td>41.649306</td>\n",
              "      <td>14.754622</td>\n",
              "      <td>17.0</td>\n",
              "      <td>28.0</td>\n",
              "      <td>41.0</td>\n",
              "      <td>53.0</td>\n",
              "      <td>82.0</td>\n",
              "      <td>288.0</td>\n",
              "      <td>235891.625000</td>\n",
              "      <td>110381.530155</td>\n",
              "      <td>32896.0</td>\n",
              "      <td>160358.25</td>\n",
              "      <td>222202.5</td>\n",
              "      <td>290265.00</td>\n",
              "      <td>684015.0</td>\n",
              "      <td>288.0</td>\n",
              "      <td>3.0</td>\n",
              "      <td>0.0</td>\n",
              "      <td>3.0</td>\n",
              "      <td>3.0</td>\n",
              "      <td>3.0</td>\n",
              "      <td>3.0</td>\n",
              "      <td>3.0</td>\n",
              "      <td>288.0</td>\n",
              "      <td>170.038194</td>\n",
              "      <td>908.443530</td>\n",
              "      <td>0.0</td>\n",
              "      <td>0.0</td>\n",
              "      <td>0.0</td>\n",
              "      <td>0.0</td>\n",
              "      <td>7298.0</td>\n",
              "      <td>288.0</td>\n",
              "      <td>71.524306</td>\n",
              "      <td>382.422253</td>\n",
              "      <td>0.0</td>\n",
              "      <td>0.0</td>\n",
              "      <td>0.0</td>\n",
              "      <td>0.0</td>\n",
              "      <td>2603.0</td>\n",
              "      <td>288.0</td>\n",
              "      <td>38.798611</td>\n",
              "      <td>10.147745</td>\n",
              "      <td>3.0</td>\n",
              "      <td>40.00</td>\n",
              "      <td>40.0</td>\n",
              "      <td>40.0</td>\n",
              "      <td>75.0</td>\n",
              "    </tr>\n",
              "    <tr>\n",
              "      <th>7th-8th</th>\n",
              "      <td>557.0</td>\n",
              "      <td>47.631957</td>\n",
              "      <td>15.737479</td>\n",
              "      <td>17.0</td>\n",
              "      <td>34.0</td>\n",
              "      <td>49.0</td>\n",
              "      <td>60.0</td>\n",
              "      <td>90.0</td>\n",
              "      <td>557.0</td>\n",
              "      <td>190912.093357</td>\n",
              "      <td>107889.942536</td>\n",
              "      <td>20057.0</td>\n",
              "      <td>111306.00</td>\n",
              "      <td>182494.0</td>\n",
              "      <td>245487.00</td>\n",
              "      <td>750972.0</td>\n",
              "      <td>557.0</td>\n",
              "      <td>4.0</td>\n",
              "      <td>0.0</td>\n",
              "      <td>4.0</td>\n",
              "      <td>4.0</td>\n",
              "      <td>4.0</td>\n",
              "      <td>4.0</td>\n",
              "      <td>4.0</td>\n",
              "      <td>557.0</td>\n",
              "      <td>244.703770</td>\n",
              "      <td>1059.250753</td>\n",
              "      <td>0.0</td>\n",
              "      <td>0.0</td>\n",
              "      <td>0.0</td>\n",
              "      <td>0.0</td>\n",
              "      <td>10566.0</td>\n",
              "      <td>557.0</td>\n",
              "      <td>66.229803</td>\n",
              "      <td>359.135249</td>\n",
              "      <td>0.0</td>\n",
              "      <td>0.0</td>\n",
              "      <td>0.0</td>\n",
              "      <td>0.0</td>\n",
              "      <td>3900.0</td>\n",
              "      <td>557.0</td>\n",
              "      <td>40.131059</td>\n",
              "      <td>13.350790</td>\n",
              "      <td>2.0</td>\n",
              "      <td>38.00</td>\n",
              "      <td>40.0</td>\n",
              "      <td>40.0</td>\n",
              "      <td>99.0</td>\n",
              "    </tr>\n",
              "    <tr>\n",
              "      <th>9th</th>\n",
              "      <td>455.0</td>\n",
              "      <td>40.303297</td>\n",
              "      <td>15.335754</td>\n",
              "      <td>17.0</td>\n",
              "      <td>28.0</td>\n",
              "      <td>38.0</td>\n",
              "      <td>53.0</td>\n",
              "      <td>90.0</td>\n",
              "      <td>455.0</td>\n",
              "      <td>204487.019780</td>\n",
              "      <td>113515.148043</td>\n",
              "      <td>22418.0</td>\n",
              "      <td>123831.00</td>\n",
              "      <td>184883.0</td>\n",
              "      <td>247286.50</td>\n",
              "      <td>758700.0</td>\n",
              "      <td>455.0</td>\n",
              "      <td>5.0</td>\n",
              "      <td>0.0</td>\n",
              "      <td>5.0</td>\n",
              "      <td>5.0</td>\n",
              "      <td>5.0</td>\n",
              "      <td>5.0</td>\n",
              "      <td>5.0</td>\n",
              "      <td>455.0</td>\n",
              "      <td>354.298901</td>\n",
              "      <td>4726.911957</td>\n",
              "      <td>0.0</td>\n",
              "      <td>0.0</td>\n",
              "      <td>0.0</td>\n",
              "      <td>0.0</td>\n",
              "      <td>99999.0</td>\n",
              "      <td>455.0</td>\n",
              "      <td>28.980220</td>\n",
              "      <td>224.069809</td>\n",
              "      <td>0.0</td>\n",
              "      <td>0.0</td>\n",
              "      <td>0.0</td>\n",
              "      <td>0.0</td>\n",
              "      <td>2231.0</td>\n",
              "      <td>455.0</td>\n",
              "      <td>38.767033</td>\n",
              "      <td>10.514654</td>\n",
              "      <td>5.0</td>\n",
              "      <td>39.50</td>\n",
              "      <td>40.0</td>\n",
              "      <td>40.0</td>\n",
              "      <td>99.0</td>\n",
              "    </tr>\n",
              "    <tr>\n",
              "      <th>Assoc-acdm</th>\n",
              "      <td>1008.0</td>\n",
              "      <td>37.286706</td>\n",
              "      <td>10.509755</td>\n",
              "      <td>19.0</td>\n",
              "      <td>29.0</td>\n",
              "      <td>36.0</td>\n",
              "      <td>44.0</td>\n",
              "      <td>90.0</td>\n",
              "      <td>1008.0</td>\n",
              "      <td>192816.142857</td>\n",
              "      <td>104812.359596</td>\n",
              "      <td>19302.0</td>\n",
              "      <td>120054.25</td>\n",
              "      <td>182232.0</td>\n",
              "      <td>236811.25</td>\n",
              "      <td>1455435.0</td>\n",
              "      <td>1008.0</td>\n",
              "      <td>12.0</td>\n",
              "      <td>0.0</td>\n",
              "      <td>12.0</td>\n",
              "      <td>12.0</td>\n",
              "      <td>12.0</td>\n",
              "      <td>12.0</td>\n",
              "      <td>12.0</td>\n",
              "      <td>1008.0</td>\n",
              "      <td>554.921627</td>\n",
              "      <td>2353.625975</td>\n",
              "      <td>0.0</td>\n",
              "      <td>0.0</td>\n",
              "      <td>0.0</td>\n",
              "      <td>0.0</td>\n",
              "      <td>25236.0</td>\n",
              "      <td>1008.0</td>\n",
              "      <td>94.377976</td>\n",
              "      <td>407.132203</td>\n",
              "      <td>0.0</td>\n",
              "      <td>0.0</td>\n",
              "      <td>0.0</td>\n",
              "      <td>0.0</td>\n",
              "      <td>2444.0</td>\n",
              "      <td>1008.0</td>\n",
              "      <td>41.184524</td>\n",
              "      <td>11.524064</td>\n",
              "      <td>2.0</td>\n",
              "      <td>40.00</td>\n",
              "      <td>40.0</td>\n",
              "      <td>45.0</td>\n",
              "      <td>99.0</td>\n",
              "    </tr>\n",
              "    <tr>\n",
              "      <th>Assoc-voc</th>\n",
              "      <td>1307.0</td>\n",
              "      <td>38.246366</td>\n",
              "      <td>11.181253</td>\n",
              "      <td>19.0</td>\n",
              "      <td>30.0</td>\n",
              "      <td>37.0</td>\n",
              "      <td>45.0</td>\n",
              "      <td>84.0</td>\n",
              "      <td>1307.0</td>\n",
              "      <td>181140.203520</td>\n",
              "      <td>105082.221918</td>\n",
              "      <td>20098.0</td>\n",
              "      <td>108669.50</td>\n",
              "      <td>173350.0</td>\n",
              "      <td>232244.50</td>\n",
              "      <td>1366120.0</td>\n",
              "      <td>1307.0</td>\n",
              "      <td>11.0</td>\n",
              "      <td>0.0</td>\n",
              "      <td>11.0</td>\n",
              "      <td>11.0</td>\n",
              "      <td>11.0</td>\n",
              "      <td>11.0</td>\n",
              "      <td>11.0</td>\n",
              "      <td>1307.0</td>\n",
              "      <td>737.344300</td>\n",
              "      <td>3728.316563</td>\n",
              "      <td>0.0</td>\n",
              "      <td>0.0</td>\n",
              "      <td>0.0</td>\n",
              "      <td>0.0</td>\n",
              "      <td>99999.0</td>\n",
              "      <td>1307.0</td>\n",
              "      <td>70.198929</td>\n",
              "      <td>358.407083</td>\n",
              "      <td>0.0</td>\n",
              "      <td>0.0</td>\n",
              "      <td>0.0</td>\n",
              "      <td>0.0</td>\n",
              "      <td>2603.0</td>\n",
              "      <td>1307.0</td>\n",
              "      <td>41.954093</td>\n",
              "      <td>10.210767</td>\n",
              "      <td>3.0</td>\n",
              "      <td>40.00</td>\n",
              "      <td>40.0</td>\n",
              "      <td>45.0</td>\n",
              "      <td>99.0</td>\n",
              "    </tr>\n",
              "    <tr>\n",
              "      <th>Bachelors</th>\n",
              "      <td>5044.0</td>\n",
              "      <td>38.641554</td>\n",
              "      <td>11.577566</td>\n",
              "      <td>19.0</td>\n",
              "      <td>29.0</td>\n",
              "      <td>37.0</td>\n",
              "      <td>46.0</td>\n",
              "      <td>90.0</td>\n",
              "      <td>5044.0</td>\n",
              "      <td>187933.576328</td>\n",
              "      <td>105452.544752</td>\n",
              "      <td>19302.0</td>\n",
              "      <td>116527.50</td>\n",
              "      <td>177213.5</td>\n",
              "      <td>234997.25</td>\n",
              "      <td>1226583.0</td>\n",
              "      <td>5044.0</td>\n",
              "      <td>13.0</td>\n",
              "      <td>0.0</td>\n",
              "      <td>13.0</td>\n",
              "      <td>13.0</td>\n",
              "      <td>13.0</td>\n",
              "      <td>13.0</td>\n",
              "      <td>13.0</td>\n",
              "      <td>5044.0</td>\n",
              "      <td>1735.028747</td>\n",
              "      <td>9084.159101</td>\n",
              "      <td>0.0</td>\n",
              "      <td>0.0</td>\n",
              "      <td>0.0</td>\n",
              "      <td>0.0</td>\n",
              "      <td>99999.0</td>\n",
              "      <td>5044.0</td>\n",
              "      <td>117.964512</td>\n",
              "      <td>462.582286</td>\n",
              "      <td>0.0</td>\n",
              "      <td>0.0</td>\n",
              "      <td>0.0</td>\n",
              "      <td>0.0</td>\n",
              "      <td>2824.0</td>\n",
              "      <td>5044.0</td>\n",
              "      <td>42.948454</td>\n",
              "      <td>10.999798</td>\n",
              "      <td>2.0</td>\n",
              "      <td>40.00</td>\n",
              "      <td>40.0</td>\n",
              "      <td>50.0</td>\n",
              "      <td>99.0</td>\n",
              "    </tr>\n",
              "    <tr>\n",
              "      <th>Doctorate</th>\n",
              "      <td>375.0</td>\n",
              "      <td>47.130667</td>\n",
              "      <td>11.471727</td>\n",
              "      <td>24.0</td>\n",
              "      <td>39.0</td>\n",
              "      <td>47.0</td>\n",
              "      <td>54.0</td>\n",
              "      <td>80.0</td>\n",
              "      <td>375.0</td>\n",
              "      <td>188782.168000</td>\n",
              "      <td>104226.321212</td>\n",
              "      <td>19520.0</td>\n",
              "      <td>115503.50</td>\n",
              "      <td>176796.0</td>\n",
              "      <td>233407.50</td>\n",
              "      <td>606111.0</td>\n",
              "      <td>375.0</td>\n",
              "      <td>16.0</td>\n",
              "      <td>0.0</td>\n",
              "      <td>16.0</td>\n",
              "      <td>16.0</td>\n",
              "      <td>16.0</td>\n",
              "      <td>16.0</td>\n",
              "      <td>16.0</td>\n",
              "      <td>375.0</td>\n",
              "      <td>5031.370667</td>\n",
              "      <td>17961.239837</td>\n",
              "      <td>0.0</td>\n",
              "      <td>0.0</td>\n",
              "      <td>0.0</td>\n",
              "      <td>0.0</td>\n",
              "      <td>99999.0</td>\n",
              "      <td>375.0</td>\n",
              "      <td>265.226667</td>\n",
              "      <td>697.726092</td>\n",
              "      <td>0.0</td>\n",
              "      <td>0.0</td>\n",
              "      <td>0.0</td>\n",
              "      <td>0.0</td>\n",
              "      <td>3683.0</td>\n",
              "      <td>375.0</td>\n",
              "      <td>47.832000</td>\n",
              "      <td>14.101088</td>\n",
              "      <td>1.0</td>\n",
              "      <td>40.00</td>\n",
              "      <td>45.0</td>\n",
              "      <td>55.0</td>\n",
              "      <td>99.0</td>\n",
              "    </tr>\n",
              "    <tr>\n",
              "      <th>HS-grad</th>\n",
              "      <td>9840.0</td>\n",
              "      <td>38.640955</td>\n",
              "      <td>13.067730</td>\n",
              "      <td>17.0</td>\n",
              "      <td>28.0</td>\n",
              "      <td>37.0</td>\n",
              "      <td>48.0</td>\n",
              "      <td>90.0</td>\n",
              "      <td>9840.0</td>\n",
              "      <td>189384.311484</td>\n",
              "      <td>103837.328045</td>\n",
              "      <td>19214.0</td>\n",
              "      <td>119422.00</td>\n",
              "      <td>177670.0</td>\n",
              "      <td>234057.00</td>\n",
              "      <td>1268339.0</td>\n",
              "      <td>9840.0</td>\n",
              "      <td>9.0</td>\n",
              "      <td>0.0</td>\n",
              "      <td>9.0</td>\n",
              "      <td>9.0</td>\n",
              "      <td>9.0</td>\n",
              "      <td>9.0</td>\n",
              "      <td>9.0</td>\n",
              "      <td>9840.0</td>\n",
              "      <td>589.385874</td>\n",
              "      <td>5043.794846</td>\n",
              "      <td>0.0</td>\n",
              "      <td>0.0</td>\n",
              "      <td>0.0</td>\n",
              "      <td>0.0</td>\n",
              "      <td>99999.0</td>\n",
              "      <td>9840.0</td>\n",
              "      <td>70.790041</td>\n",
              "      <td>360.777454</td>\n",
              "      <td>0.0</td>\n",
              "      <td>0.0</td>\n",
              "      <td>0.0</td>\n",
              "      <td>0.0</td>\n",
              "      <td>4356.0</td>\n",
              "      <td>9840.0</td>\n",
              "      <td>41.042073</td>\n",
              "      <td>10.983308</td>\n",
              "      <td>1.0</td>\n",
              "      <td>40.00</td>\n",
              "      <td>40.0</td>\n",
              "      <td>44.0</td>\n",
              "      <td>99.0</td>\n",
              "    </tr>\n",
              "    <tr>\n",
              "      <th>Masters</th>\n",
              "      <td>1627.0</td>\n",
              "      <td>43.740012</td>\n",
              "      <td>10.735356</td>\n",
              "      <td>18.0</td>\n",
              "      <td>36.0</td>\n",
              "      <td>43.0</td>\n",
              "      <td>50.0</td>\n",
              "      <td>90.0</td>\n",
              "      <td>1627.0</td>\n",
              "      <td>179991.526736</td>\n",
              "      <td>97068.322911</td>\n",
              "      <td>20179.0</td>\n",
              "      <td>112640.00</td>\n",
              "      <td>172281.0</td>\n",
              "      <td>219958.00</td>\n",
              "      <td>704108.0</td>\n",
              "      <td>1627.0</td>\n",
              "      <td>14.0</td>\n",
              "      <td>0.0</td>\n",
              "      <td>14.0</td>\n",
              "      <td>14.0</td>\n",
              "      <td>14.0</td>\n",
              "      <td>14.0</td>\n",
              "      <td>14.0</td>\n",
              "      <td>1627.0</td>\n",
              "      <td>2554.357099</td>\n",
              "      <td>10910.558441</td>\n",
              "      <td>0.0</td>\n",
              "      <td>0.0</td>\n",
              "      <td>0.0</td>\n",
              "      <td>0.0</td>\n",
              "      <td>99999.0</td>\n",
              "      <td>1627.0</td>\n",
              "      <td>171.854333</td>\n",
              "      <td>558.417034</td>\n",
              "      <td>0.0</td>\n",
              "      <td>0.0</td>\n",
              "      <td>0.0</td>\n",
              "      <td>0.0</td>\n",
              "      <td>2824.0</td>\n",
              "      <td>1627.0</td>\n",
              "      <td>44.240934</td>\n",
              "      <td>11.865263</td>\n",
              "      <td>2.0</td>\n",
              "      <td>40.00</td>\n",
              "      <td>40.0</td>\n",
              "      <td>50.0</td>\n",
              "      <td>99.0</td>\n",
              "    </tr>\n",
              "    <tr>\n",
              "      <th>Preschool</th>\n",
              "      <td>45.0</td>\n",
              "      <td>41.288889</td>\n",
              "      <td>15.175672</td>\n",
              "      <td>19.0</td>\n",
              "      <td>30.0</td>\n",
              "      <td>40.0</td>\n",
              "      <td>53.0</td>\n",
              "      <td>75.0</td>\n",
              "      <td>45.0</td>\n",
              "      <td>237499.377778</td>\n",
              "      <td>117566.707183</td>\n",
              "      <td>69911.0</td>\n",
              "      <td>160893.00</td>\n",
              "      <td>225065.0</td>\n",
              "      <td>277695.00</td>\n",
              "      <td>572751.0</td>\n",
              "      <td>45.0</td>\n",
              "      <td>1.0</td>\n",
              "      <td>0.0</td>\n",
              "      <td>1.0</td>\n",
              "      <td>1.0</td>\n",
              "      <td>1.0</td>\n",
              "      <td>1.0</td>\n",
              "      <td>1.0</td>\n",
              "      <td>45.0</td>\n",
              "      <td>1018.177778</td>\n",
              "      <td>6179.488237</td>\n",
              "      <td>0.0</td>\n",
              "      <td>0.0</td>\n",
              "      <td>0.0</td>\n",
              "      <td>0.0</td>\n",
              "      <td>41310.0</td>\n",
              "      <td>45.0</td>\n",
              "      <td>75.355556</td>\n",
              "      <td>353.393108</td>\n",
              "      <td>0.0</td>\n",
              "      <td>0.0</td>\n",
              "      <td>0.0</td>\n",
              "      <td>0.0</td>\n",
              "      <td>1719.0</td>\n",
              "      <td>45.0</td>\n",
              "      <td>36.866667</td>\n",
              "      <td>13.067308</td>\n",
              "      <td>10.0</td>\n",
              "      <td>30.00</td>\n",
              "      <td>40.0</td>\n",
              "      <td>40.0</td>\n",
              "      <td>75.0</td>\n",
              "    </tr>\n",
              "    <tr>\n",
              "      <th>Prof-school</th>\n",
              "      <td>542.0</td>\n",
              "      <td>44.249077</td>\n",
              "      <td>11.428098</td>\n",
              "      <td>25.0</td>\n",
              "      <td>36.0</td>\n",
              "      <td>43.0</td>\n",
              "      <td>50.0</td>\n",
              "      <td>90.0</td>\n",
              "      <td>542.0</td>\n",
              "      <td>185621.079336</td>\n",
              "      <td>93963.829875</td>\n",
              "      <td>14878.0</td>\n",
              "      <td>117109.50</td>\n",
              "      <td>177090.5</td>\n",
              "      <td>228939.25</td>\n",
              "      <td>747719.0</td>\n",
              "      <td>542.0</td>\n",
              "      <td>15.0</td>\n",
              "      <td>0.0</td>\n",
              "      <td>15.0</td>\n",
              "      <td>15.0</td>\n",
              "      <td>15.0</td>\n",
              "      <td>15.0</td>\n",
              "      <td>15.0</td>\n",
              "      <td>542.0</td>\n",
              "      <td>10731.630996</td>\n",
              "      <td>27514.244516</td>\n",
              "      <td>0.0</td>\n",
              "      <td>0.0</td>\n",
              "      <td>0.0</td>\n",
              "      <td>2309.5</td>\n",
              "      <td>99999.0</td>\n",
              "      <td>542.0</td>\n",
              "      <td>234.474170</td>\n",
              "      <td>666.898883</td>\n",
              "      <td>0.0</td>\n",
              "      <td>0.0</td>\n",
              "      <td>0.0</td>\n",
              "      <td>0.0</td>\n",
              "      <td>2824.0</td>\n",
              "      <td>542.0</td>\n",
              "      <td>47.963100</td>\n",
              "      <td>14.367584</td>\n",
              "      <td>2.0</td>\n",
              "      <td>40.00</td>\n",
              "      <td>50.0</td>\n",
              "      <td>55.0</td>\n",
              "      <td>99.0</td>\n",
              "    </tr>\n",
              "    <tr>\n",
              "      <th>Some-college</th>\n",
              "      <td>6678.0</td>\n",
              "      <td>36.135370</td>\n",
              "      <td>13.073528</td>\n",
              "      <td>17.0</td>\n",
              "      <td>25.0</td>\n",
              "      <td>35.0</td>\n",
              "      <td>45.0</td>\n",
              "      <td>90.0</td>\n",
              "      <td>6678.0</td>\n",
              "      <td>189140.219826</td>\n",
              "      <td>107763.573131</td>\n",
              "      <td>13769.0</td>\n",
              "      <td>115453.50</td>\n",
              "      <td>179357.0</td>\n",
              "      <td>239161.00</td>\n",
              "      <td>1484705.0</td>\n",
              "      <td>6678.0</td>\n",
              "      <td>10.0</td>\n",
              "      <td>0.0</td>\n",
              "      <td>10.0</td>\n",
              "      <td>10.0</td>\n",
              "      <td>10.0</td>\n",
              "      <td>10.0</td>\n",
              "      <td>10.0</td>\n",
              "      <td>6678.0</td>\n",
              "      <td>590.284816</td>\n",
              "      <td>4504.073569</td>\n",
              "      <td>0.0</td>\n",
              "      <td>0.0</td>\n",
              "      <td>0.0</td>\n",
              "      <td>0.0</td>\n",
              "      <td>99999.0</td>\n",
              "      <td>6678.0</td>\n",
              "      <td>71.902366</td>\n",
              "      <td>361.118133</td>\n",
              "      <td>0.0</td>\n",
              "      <td>0.0</td>\n",
              "      <td>0.0</td>\n",
              "      <td>0.0</td>\n",
              "      <td>3900.0</td>\n",
              "      <td>6678.0</td>\n",
              "      <td>39.411051</td>\n",
              "      <td>12.542184</td>\n",
              "      <td>1.0</td>\n",
              "      <td>36.00</td>\n",
              "      <td>40.0</td>\n",
              "      <td>45.0</td>\n",
              "      <td>99.0</td>\n",
              "    </tr>\n",
              "  </tbody>\n",
              "</table>\n",
              "</div>"
            ],
            "text/plain": [
              "                 age                              ... hours-per-week                  \n",
              "               count       mean        std   min  ...            25%   50%   75%   max\n",
              "education                                         ...                                 \n",
              "10th           820.0  37.897561  16.225795  17.0  ...          32.75  40.0  40.0  99.0\n",
              "11th          1048.0  32.363550  15.089307  17.0  ...          20.00  40.0  40.0  99.0\n",
              "12th           377.0  32.013263  14.373710  17.0  ...          27.00  40.0  40.0  99.0\n",
              "1st-4th        151.0  44.622517  14.929051  19.0  ...          35.00  40.0  40.0  96.0\n",
              "5th-6th        288.0  41.649306  14.754622  17.0  ...          40.00  40.0  40.0  75.0\n",
              "7th-8th        557.0  47.631957  15.737479  17.0  ...          38.00  40.0  40.0  99.0\n",
              "9th            455.0  40.303297  15.335754  17.0  ...          39.50  40.0  40.0  99.0\n",
              "Assoc-acdm    1008.0  37.286706  10.509755  19.0  ...          40.00  40.0  45.0  99.0\n",
              "Assoc-voc     1307.0  38.246366  11.181253  19.0  ...          40.00  40.0  45.0  99.0\n",
              "Bachelors     5044.0  38.641554  11.577566  19.0  ...          40.00  40.0  50.0  99.0\n",
              "Doctorate      375.0  47.130667  11.471727  24.0  ...          40.00  45.0  55.0  99.0\n",
              "HS-grad       9840.0  38.640955  13.067730  17.0  ...          40.00  40.0  44.0  99.0\n",
              "Masters       1627.0  43.740012  10.735356  18.0  ...          40.00  40.0  50.0  99.0\n",
              "Preschool       45.0  41.288889  15.175672  19.0  ...          30.00  40.0  40.0  75.0\n",
              "Prof-school    542.0  44.249077  11.428098  25.0  ...          40.00  50.0  55.0  99.0\n",
              "Some-college  6678.0  36.135370  13.073528  17.0  ...          36.00  40.0  45.0  99.0\n",
              "\n",
              "[16 rows x 48 columns]"
            ]
          },
          "metadata": {
            "tags": []
          },
          "execution_count": 52
        }
      ]
    },
    {
      "cell_type": "code",
      "metadata": {
        "id": "gRIdRa8_UWG6",
        "colab": {
          "base_uri": "https://localhost:8080/",
          "height": 340
        },
        "outputId": "e9fe667f-913b-43fe-cc79-ace683f2dfa1"
      },
      "source": [
        "data['education'].value_counts().plot.bar()"
      ],
      "execution_count": 69,
      "outputs": [
        {
          "output_type": "execute_result",
          "data": {
            "text/plain": [
              "<matplotlib.axes._subplots.AxesSubplot at 0x7fef0edfa128>"
            ]
          },
          "metadata": {
            "tags": []
          },
          "execution_count": 69
        },
        {
          "output_type": "display_data",
          "data": {
            "image/png": "[encoded data removed]",
            "text/plain": [
              "<Figure size 432x288 with 1 Axes>"
            ]
          },
          "metadata": {
            "tags": [],
            "needs_background": "light"
          }
        }
      ]
    },
    {
      "cell_type": "code",
      "metadata": {
        "colab": {
          "base_uri": "https://localhost:8080/",
          "height": 354
        },
        "id": "-y2imqpEZbl8",
        "outputId": "c90522ee-3297-4c11-8438-3bb1e0c8b29d"
      },
      "source": [
        "data.groupby('education').agg('count').agg('age').plot(kind='bar',color='orange')"
      ],
      "execution_count": 60,
      "outputs": [
        {
          "output_type": "execute_result",
          "data": {
            "text/plain": [
              "<matplotlib.axes._subplots.AxesSubplot at 0x7fef0f2d5c18>"
            ]
          },
          "metadata": {
            "tags": []
          },
          "execution_count": 60
        },
        {
          "output_type": "display_data",
          "data": {
            "image/png": "[encoded data removed]",
            "text/plain": [
              "<Figure size 432x288 with 1 Axes>"
            ]
          },
          "metadata": {
            "tags": [],
            "needs_background": "light"
          }
        }
      ]
    },
    {
      "cell_type": "markdown",
      "metadata": {
        "id": "mGiH96GAUWG6"
      },
      "source": [
        "__5. Каковы средние значения и среднеквадратичные отклонения возраста тех, кто получает более 50K в год (признак _salary_) и тех, кто получает менее 50K в год?__  \n",
        "  \n",
        "**Tip:** Используйте методы `groupby` и `agg`."
      ]
    },
    {
      "cell_type": "code",
      "metadata": {
        "id": "7fLrrHYVUWG6",
        "colab": {
          "base_uri": "https://localhost:8080/",
          "height": 142
        },
        "outputId": "9051978f-bd0f-43bd-e543-0cce2853e728"
      },
      "source": [
        "#avg_less,avg_more = tuple(data.groupby('salary').mean()['age'])\r\n",
        "data.groupby('salary').age.agg(\r\n",
        "    meanAge = 'mean',\r\n",
        "    stdAge = 'std'\r\n",
        ")"
      ],
      "execution_count": 75,
      "outputs": [
        {
          "output_type": "execute_result",
          "data": {
            "text/html": [
              "<div>\n",
              "<style scoped>\n",
              "    .dataframe tbody tr th:only-of-type {\n",
              "        vertical-align: middle;\n",
              "    }\n",
              "\n",
              "    .dataframe tbody tr th {\n",
              "        vertical-align: top;\n",
              "    }\n",
              "\n",
              "    .dataframe thead th {\n",
              "        text-align: right;\n",
              "    }\n",
              "</style>\n",
              "<table border=\"1\" class=\"dataframe\">\n",
              "  <thead>\n",
              "    <tr style=\"text-align: right;\">\n",
              "      <th></th>\n",
              "      <th>meanAge</th>\n",
              "      <th>stdAge</th>\n",
              "    </tr>\n",
              "    <tr>\n",
              "      <th>salary</th>\n",
              "      <th></th>\n",
              "      <th></th>\n",
              "    </tr>\n",
              "  </thead>\n",
              "  <tbody>\n",
              "    <tr>\n",
              "      <th>&lt;=50K</th>\n",
              "      <td>36.60806</td>\n",
              "      <td>13.464631</td>\n",
              "    </tr>\n",
              "    <tr>\n",
              "      <th>&gt;50K</th>\n",
              "      <td>43.95911</td>\n",
              "      <td>10.269633</td>\n",
              "    </tr>\n",
              "  </tbody>\n",
              "</table>\n",
              "</div>"
            ],
            "text/plain": [
              "         meanAge     stdAge\n",
              "salary                     \n",
              "<=50K   36.60806  13.464631\n",
              ">50K    43.95911  10.269633"
            ]
          },
          "metadata": {
            "tags": []
          },
          "execution_count": 75
        }
      ]
    },
    {
      "cell_type": "markdown",
      "metadata": {
        "id": "S0iasj4tUWG6"
      },
      "source": [
        "**6. Правда ли, что люди, которые получают больше 50k, имеют как минимум высшее образование? (признак *education - Bachelors, Prof-school, Assoc-acdm, Assoc-voc, Masters* или *Doctorate*)**  \n",
        "  \n",
        "**Tip:** Нужно написать код (может хватить и одного выражения), который проверяет выполнение условия и возвращает `True` если условие выполняется (т.е. ответ на вопрос - да, правда) и `False` иначе."
      ]
    },
    {
      "cell_type": "code",
      "metadata": {
        "colab": {
          "base_uri": "https://localhost:8080/"
        },
        "id": "BjjU401cUWG6",
        "outputId": "871fa40a-fa68-4d2e-f1db-df9407775ca2"
      },
      "source": [
        "list(set(data.groupby('salary').education.value_counts().loc['>50K'].index.to_list()) - set(['Bachelors','Prof-school','Assoc-acdm','Assoc-voc','Masters','Doctorate']))==[]"
      ],
      "execution_count": 90,
      "outputs": [
        {
          "output_type": "execute_result",
          "data": {
            "text/plain": [
              "False"
            ]
          },
          "metadata": {
            "tags": []
          },
          "execution_count": 90
        }
      ]
    },
    {
      "cell_type": "markdown",
      "metadata": {
        "id": "lb65BjaxUWG6"
      },
      "source": [
        "**7. Выведите статистику возраста для каждой расы (признак *race*) и каждого пола. Используйте *groupby* и *describe*. Найдите таким образом максимальный возраст мужчин расы *Amer-Indian-Eskimo*.**  \n",
        "  \n",
        "**Tip:** Максимальный возраст мужчин расы *Amer-Indian-Eskimo* необходимо получить из таблицы, полученной в результате использования методов *groupby* и *describe*. Почитайте про [MultiIndex](https://pandas.pydata.org/pandas-docs/stable/advanced.html)."
      ]
    },
    {
      "cell_type": "code",
      "metadata": {
        "colab": {
          "base_uri": "https://localhost:8080/",
          "height": 142
        },
        "id": "Ov13XF5nUWG7",
        "outputId": "b1672a98-e371-4953-8132-ead179e3016f"
      },
      "source": [
        "#data.groupby('race').describe()\r\n",
        "#data.groupby('race').max()['age'][0]\r\n",
        "data.groupby('sex')['age'].describe()"
      ],
      "execution_count": 76,
      "outputs": [
        {
          "output_type": "execute_result",
          "data": {
            "text/html": [
              "<div>\n",
              "<style scoped>\n",
              "    .dataframe tbody tr th:only-of-type {\n",
              "        vertical-align: middle;\n",
              "    }\n",
              "\n",
              "    .dataframe tbody tr th {\n",
              "        vertical-align: top;\n",
              "    }\n",
              "\n",
              "    .dataframe thead th {\n",
              "        text-align: right;\n",
              "    }\n",
              "</style>\n",
              "<table border=\"1\" class=\"dataframe\">\n",
              "  <thead>\n",
              "    <tr style=\"text-align: right;\">\n",
              "      <th></th>\n",
              "      <th>count</th>\n",
              "      <th>mean</th>\n",
              "      <th>std</th>\n",
              "      <th>min</th>\n",
              "      <th>25%</th>\n",
              "      <th>50%</th>\n",
              "      <th>75%</th>\n",
              "      <th>max</th>\n",
              "    </tr>\n",
              "    <tr>\n",
              "      <th>sex</th>\n",
              "      <th></th>\n",
              "      <th></th>\n",
              "      <th></th>\n",
              "      <th></th>\n",
              "      <th></th>\n",
              "      <th></th>\n",
              "      <th></th>\n",
              "      <th></th>\n",
              "    </tr>\n",
              "  </thead>\n",
              "  <tbody>\n",
              "    <tr>\n",
              "      <th>Female</th>\n",
              "      <td>9782.0</td>\n",
              "      <td>36.883459</td>\n",
              "      <td>13.532427</td>\n",
              "      <td>17.0</td>\n",
              "      <td>25.25</td>\n",
              "      <td>35.0</td>\n",
              "      <td>46.0</td>\n",
              "      <td>90.0</td>\n",
              "    </tr>\n",
              "    <tr>\n",
              "      <th>Male</th>\n",
              "      <td>20380.0</td>\n",
              "      <td>39.184004</td>\n",
              "      <td>12.873243</td>\n",
              "      <td>17.0</td>\n",
              "      <td>29.00</td>\n",
              "      <td>38.0</td>\n",
              "      <td>48.0</td>\n",
              "      <td>90.0</td>\n",
              "    </tr>\n",
              "  </tbody>\n",
              "</table>\n",
              "</div>"
            ],
            "text/plain": [
              "          count       mean        std   min    25%   50%   75%   max\n",
              "sex                                                                 \n",
              "Female   9782.0  36.883459  13.532427  17.0  25.25  35.0  46.0  90.0\n",
              "Male    20380.0  39.184004  12.873243  17.0  29.00  38.0  48.0  90.0"
            ]
          },
          "metadata": {
            "tags": []
          },
          "execution_count": 76
        }
      ]
    },
    {
      "cell_type": "code",
      "metadata": {
        "id": "BTN_itTn45Jt",
        "colab": {
          "base_uri": "https://localhost:8080/",
          "height": 235
        },
        "outputId": "63b3a63f-2615-47c9-f2da-0721c74f5c43"
      },
      "source": [
        "data.groupby('race')['age'].describe()"
      ],
      "execution_count": 83,
      "outputs": [
        {
          "output_type": "execute_result",
          "data": {
            "text/html": [
              "<div>\n",
              "<style scoped>\n",
              "    .dataframe tbody tr th:only-of-type {\n",
              "        vertical-align: middle;\n",
              "    }\n",
              "\n",
              "    .dataframe tbody tr th {\n",
              "        vertical-align: top;\n",
              "    }\n",
              "\n",
              "    .dataframe thead th {\n",
              "        text-align: right;\n",
              "    }\n",
              "</style>\n",
              "<table border=\"1\" class=\"dataframe\">\n",
              "  <thead>\n",
              "    <tr style=\"text-align: right;\">\n",
              "      <th></th>\n",
              "      <th>count</th>\n",
              "      <th>mean</th>\n",
              "      <th>std</th>\n",
              "      <th>min</th>\n",
              "      <th>25%</th>\n",
              "      <th>50%</th>\n",
              "      <th>75%</th>\n",
              "      <th>max</th>\n",
              "    </tr>\n",
              "    <tr>\n",
              "      <th>race</th>\n",
              "      <th></th>\n",
              "      <th></th>\n",
              "      <th></th>\n",
              "      <th></th>\n",
              "      <th></th>\n",
              "      <th></th>\n",
              "      <th></th>\n",
              "      <th></th>\n",
              "    </tr>\n",
              "  </thead>\n",
              "  <tbody>\n",
              "    <tr>\n",
              "      <th>Amer-Indian-Eskimo</th>\n",
              "      <td>286.0</td>\n",
              "      <td>36.737762</td>\n",
              "      <td>11.630168</td>\n",
              "      <td>17.0</td>\n",
              "      <td>28.0</td>\n",
              "      <td>35.0</td>\n",
              "      <td>44.75</td>\n",
              "      <td>80.0</td>\n",
              "    </tr>\n",
              "    <tr>\n",
              "      <th>Asian-Pac-Islander</th>\n",
              "      <td>895.0</td>\n",
              "      <td>37.910615</td>\n",
              "      <td>12.587717</td>\n",
              "      <td>17.0</td>\n",
              "      <td>28.0</td>\n",
              "      <td>36.0</td>\n",
              "      <td>46.00</td>\n",
              "      <td>90.0</td>\n",
              "    </tr>\n",
              "    <tr>\n",
              "      <th>Black</th>\n",
              "      <td>2817.0</td>\n",
              "      <td>37.860845</td>\n",
              "      <td>12.418791</td>\n",
              "      <td>17.0</td>\n",
              "      <td>28.0</td>\n",
              "      <td>37.0</td>\n",
              "      <td>46.00</td>\n",
              "      <td>90.0</td>\n",
              "    </tr>\n",
              "    <tr>\n",
              "      <th>Other</th>\n",
              "      <td>231.0</td>\n",
              "      <td>33.601732</td>\n",
              "      <td>10.949163</td>\n",
              "      <td>17.0</td>\n",
              "      <td>26.0</td>\n",
              "      <td>31.0</td>\n",
              "      <td>41.00</td>\n",
              "      <td>77.0</td>\n",
              "    </tr>\n",
              "    <tr>\n",
              "      <th>White</th>\n",
              "      <td>25933.0</td>\n",
              "      <td>38.580612</td>\n",
              "      <td>13.250943</td>\n",
              "      <td>17.0</td>\n",
              "      <td>28.0</td>\n",
              "      <td>37.0</td>\n",
              "      <td>47.00</td>\n",
              "      <td>90.0</td>\n",
              "    </tr>\n",
              "  </tbody>\n",
              "</table>\n",
              "</div>"
            ],
            "text/plain": [
              "                      count       mean        std  ...   50%    75%   max\n",
              "race                                               ...                   \n",
              "Amer-Indian-Eskimo    286.0  36.737762  11.630168  ...  35.0  44.75  80.0\n",
              "Asian-Pac-Islander    895.0  37.910615  12.587717  ...  36.0  46.00  90.0\n",
              "Black                2817.0  37.860845  12.418791  ...  37.0  46.00  90.0\n",
              "Other                 231.0  33.601732  10.949163  ...  31.0  41.00  77.0\n",
              "White               25933.0  38.580612  13.250943  ...  37.0  47.00  90.0\n",
              "\n",
              "[5 rows x 8 columns]"
            ]
          },
          "metadata": {
            "tags": []
          },
          "execution_count": 83
        }
      ]
    },
    {
      "cell_type": "code",
      "metadata": {
        "colab": {
          "base_uri": "https://localhost:8080/"
        },
        "id": "At5TY0z64qf_",
        "outputId": "f5a46e98-e7f3-4791-a375-60cb33f54e44"
      },
      "source": [
        "data.groupby('race')['age'].describe().loc['Amer-Indian-Eskimo']['max']"
      ],
      "execution_count": 84,
      "outputs": [
        {
          "output_type": "execute_result",
          "data": {
            "text/plain": [
              "80.0"
            ]
          },
          "metadata": {
            "tags": []
          },
          "execution_count": 84
        }
      ]
    },
    {
      "cell_type": "markdown",
      "metadata": {
        "id": "hhBPR5TxUWG7"
      },
      "source": [
        "**8. Среди кого больше доля зарабатывающих много (>50K): среди женатых или холостых мужчин (признак *marital-status*)? Женатыми считаем тех, у кого *marital-status* начинается с *Married* (Married-civ-spouse, Married-spouse-absent или Married-AF-spouse), остальных считаем холостыми.**"
      ]
    },
    {
      "cell_type": "code",
      "metadata": {
        "colab": {
          "base_uri": "https://localhost:8080/"
        },
        "id": "Xtg4bCDBqCiY",
        "outputId": "a4618c01-ee89-490b-f976-ee5faf64df5a"
      },
      "source": [
        "married_list=['Married-civ-spouse','Married-spouse-absent','Married-AF-spouse']\r\n",
        "not_married_list=[]\r\n",
        "for el in data['marital-status'].unique():\r\n",
        "  if el not in married_list:\r\n",
        "    not_married_list.append(el)\r\n",
        "print(married_list,not_married_list)"
      ],
      "execution_count": 132,
      "outputs": [
        {
          "output_type": "stream",
          "text": [
            "['Married-civ-spouse', 'Married-spouse-absent', 'Married-AF-spouse'] ['Never-married', 'Divorced', 'Separated', 'Widowed']\n"
          ],
          "name": "stdout"
        }
      ]
    },
    {
      "cell_type": "code",
      "metadata": {
        "colab": {
          "base_uri": "https://localhost:8080/"
        },
        "id": "8hLLMTCJUWG7",
        "outputId": "e93b9df3-922f-4280-bcff-0e699476699b"
      },
      "source": [
        "rich_married = data.groupby(['marital-status', 'sex']).salary.value_counts().loc[married_list, \"Male\", \">50K\"].sum()\r\n",
        "all_married = data.groupby(['marital-status', 'sex']).salary.value_counts().loc[married_list, \"Male\"].sum()\r\n",
        "rich_married/all_married "
      ],
      "execution_count": 133,
      "outputs": [
        {
          "output_type": "execute_result",
          "data": {
            "text/plain": [
              "0.4479843444227006"
            ]
          },
          "metadata": {
            "tags": []
          },
          "execution_count": 133
        }
      ]
    },
    {
      "cell_type": "code",
      "metadata": {
        "colab": {
          "base_uri": "https://localhost:8080/"
        },
        "id": "TbHAb04gjn6v",
        "outputId": "67973ca4-1b16-443c-d575-60b81c9c85fb"
      },
      "source": [
        "rich_not_married = data.groupby(['marital-status', 'sex']).salary.value_counts().loc[not_married_list, \"Male\", \">50K\"].sum()\r\n",
        "all_not_married = data.groupby(['marital-status', 'sex']).salary.value_counts().loc[not_married_list, \"Male\"].sum()\r\n",
        "rich_not_married/all_not_married "
      ],
      "execution_count": 134,
      "outputs": [
        {
          "output_type": "execute_result",
          "data": {
            "text/plain": [
              "0.08849441157133466"
            ]
          },
          "metadata": {
            "tags": []
          },
          "execution_count": 134
        }
      ]
    },
    {
      "cell_type": "markdown",
      "metadata": {
        "id": "d3BNJn8OUWG7"
      },
      "source": [
        "**9. Какое максимальное число часов человек работает в неделю (признак *hours-per-week*)? Сколько людей работают такое количество часов и каков среди них процент зарабатывающих много?**"
      ]
    },
    {
      "cell_type": "code",
      "metadata": {
        "colab": {
          "base_uri": "https://localhost:8080/"
        },
        "id": "KVZOU0UXUWG7",
        "outputId": "10ca1133-20fe-4b3a-fd73-1f103d92ec36"
      },
      "source": [
        "max_hours=data['hours-per-week'].max()\r\n",
        "max_hours"
      ],
      "execution_count": null,
      "outputs": [
        {
          "output_type": "execute_result",
          "data": {
            "text/plain": [
              "99"
            ]
          },
          "metadata": {
            "tags": []
          },
          "execution_count": 30
        }
      ]
    },
    {
      "cell_type": "code",
      "metadata": {
        "colab": {
          "base_uri": "https://localhost:8080/"
        },
        "id": "3c9jegmq5ohB",
        "outputId": "9ef95b90-6d84-40e4-a712-e74e816993ba"
      },
      "source": [
        "hard_reach=data[data['hours-per-week']==max_hours][data['salary']==\">50K\"].shape[0]\r\n",
        "hard=data[data['hours-per-week']==max_hours].shape[0]\r\n",
        "hard"
      ],
      "execution_count": null,
      "outputs": [
        {
          "output_type": "stream",
          "text": [
            "/usr/local/lib/python3.6/dist-packages/ipykernel_launcher.py:1: UserWarning: Boolean Series key will be reindexed to match DataFrame index.\n",
            "  \"\"\"Entry point for launching an IPython kernel.\n"
          ],
          "name": "stderr"
        },
        {
          "output_type": "execute_result",
          "data": {
            "text/plain": [
              "85"
            ]
          },
          "metadata": {
            "tags": []
          },
          "execution_count": 29
        }
      ]
    },
    {
      "cell_type": "code",
      "metadata": {
        "colab": {
          "base_uri": "https://localhost:8080/"
        },
        "id": "s9fY3gkH5otn",
        "outputId": "7b2ffc0f-c868-4945-e4c9-77a4d06c10f2"
      },
      "source": [
        "hard_reach/hard"
      ],
      "execution_count": null,
      "outputs": [
        {
          "output_type": "execute_result",
          "data": {
            "text/plain": [
              "0.29411764705882354"
            ]
          },
          "metadata": {
            "tags": []
          },
          "execution_count": 28
        }
      ]
    },
    {
      "cell_type": "markdown",
      "metadata": {
        "id": "yAFnd81bUWG7"
      },
      "source": [
        "**10. Посчитайте среднее время работы (*hours-per-week*) зарабатывающих мало и много (*salary*) для каждой страны (*native-country*).**  \n",
        "  \n",
        "**Tip:** Необходимо построить `barplot` для каждой страны с разбивкой по признаку *salary*. Используйте [crosstab](https://pandas.pydata.org/pandas-docs/stable/generated/pandas.crosstab.html).  \n",
        "Пример графика: ![](task_10_example.png)"
      ]
    },
    {
      "cell_type": "code",
      "metadata": {
        "id": "83DFJ-U8UWG7",
        "colab": {
          "base_uri": "https://localhost:8080/",
          "height": 663
        },
        "outputId": "14f1607a-4b6c-4db9-a109-527868a2d509"
      },
      "source": [
        "bar_chart = pd.crosstab(data['native-country'], data['salary'], data['hours-per-week'], aggfunc='mean').plot.bar()\r\n",
        "plt.rcParams['figure.figsize'] = [20, 10]\r\n",
        "bar_chart.set_title(\"average time of work\")"
      ],
      "execution_count": 125,
      "outputs": [
        {
          "output_type": "execute_result",
          "data": {
            "text/plain": [
              "Text(0.5, 1.0, 'average time of work')"
            ]
          },
          "metadata": {
            "tags": []
          },
          "execution_count": 125
        },
        {
          "output_type": "display_data",
          "data": {
            "image/png": "[encoded data removed]",
            "text/plain": [
              "<Figure size 1152x576 with 1 Axes>"
            ]
          },
          "metadata": {
            "tags": [],
            "needs_background": "light"
          }
        }
      ]
    },
    {
      "cell_type": "markdown",
      "metadata": {
        "id": "gKWVDV6VUWG8"
      },
      "source": [
        "Я считаю, что...\n",
        "- Пункт 1\n",
        "- Пункт 2\n",
        "    - Подпункт 1\n",
        "    - Подпункт 2\n",
        "    \n",
        "[Статья](https://arxiv.org/pdf/2011.08036.pdf)\n",
        "\n",
        "Текст $E=mc^2$ ещё *текст* $*$\n",
        "\n",
        "###### Заголовок"
      ]
    },
    {
      "cell_type": "code",
      "metadata": {
        "id": "EGzQTpFfUWG8"
      },
      "source": [
        ""
      ],
      "execution_count": null,
      "outputs": []
    }
  ]
}